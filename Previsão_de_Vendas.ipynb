{
  "nbformat": 4,
  "nbformat_minor": 0,
  "metadata": {
    "colab": {
      "provenance": []
    },
    "kernelspec": {
      "name": "python3",
      "display_name": "Python 3"
    },
    "language_info": {
      "name": "python"
    }
  },
  "cells": [
    {
      "cell_type": "markdown",
      "source": [
        "# Previsão de Vendas em Supermercado\n",
        "\n",
        "# Machine Learning"
      ],
      "metadata": {
        "id": "TTsCObvcfK5v"
      }
    },
    {
      "cell_type": "markdown",
      "source": [
        "# 1º Problema de Negócio\n",
        "\n",
        "O Atacado Comercial Esperança analisou os dados de vendas dos últimos três anos para 1.559 produtos em 10 lojas localizadas em diferentes cidades.\n",
        "\n",
        "Além disso, foram avaliadas diversas características dos produtos e das lojas para entender melhor o desempenho das vendas.\n",
        "\n",
        "O objetivo é desenvolver um modelo de Machine Learning capaz de prever as vendas de cada produto em uma loja específica para o próximo ano.\n",
        "\n",
        "Com essas previsões, o Atacado Comercial Esperança busca identificar padrões e tendências que permitam otimizar a gestão de estoque, impulsionar as vendas e aumentar o faturamento da empresa."
      ],
      "metadata": {
        "id": "xdLoBhrigS2b"
      }
    },
    {
      "cell_type": "markdown",
      "source": [
        "https://gist.github.com/regispires/acb4cb3112f611160fa0dc6c687feab7\n",
        "\n",
        "* Contém o conjunto de dados relevante para o problema que foi mencionado sobre\n",
        "prever vendas com Machine Learning.\n",
        "\n",
        "\n",
        "\n",
        "https://www.analyticsvidhya.com/blog/2020/01/build-your-first-machine-learning-pipeline-using-scikit-learn/\n",
        "\n",
        "* Criar uma pipeline desde a limpeza dos dados até a aplicação de modelos de aprendizado de máquina\n"
      ],
      "metadata": {
        "id": "TPiVw58bg5qq"
      }
    },
    {
      "cell_type": "markdown",
      "source": [
        "<strong> 2° Onde os dados se encontram? </strong>"
      ],
      "metadata": {
        "id": "oNoZUG-fiB0d"
      }
    },
    {
      "cell_type": "code",
      "execution_count": 21,
      "metadata": {
        "id": "DN7azK-FZt7x"
      },
      "outputs": [],
      "source": [
        "# Importação das Bibliotecas necessárias para o trabalho\n",
        "import pandas as pd\n",
        "import matplotlib.pyplot as plt\n",
        "import numpy as np\n",
        "from sklearn.linear_model import LinearRegression\n",
        "from sklearn.metrics import mean_squared_error\n",
        "from sklearn.ensemble import  RandomForestRegressor\n",
        "from sklearn.model_selection import train_test_split"
      ]
    },
    {
      "cell_type": "code",
      "source": [
        "!pip install -U pandas-profiling"
      ],
      "metadata": {
        "colab": {
          "base_uri": "https://localhost:8080/"
        },
        "id": "0KoQwVpjiGIV",
        "outputId": "2bc2857b-28d0-4f6d-d845-f581663f52e5"
      },
      "execution_count": 22,
      "outputs": [
        {
          "output_type": "stream",
          "name": "stdout",
          "text": [
            "Requirement already satisfied: pandas-profiling in /usr/local/lib/python3.11/dist-packages (3.2.0)\n",
            "Requirement already satisfied: joblib~=1.1.0 in /usr/local/lib/python3.11/dist-packages (from pandas-profiling) (1.1.1)\n",
            "Requirement already satisfied: scipy>=1.4.1 in /usr/local/lib/python3.11/dist-packages (from pandas-profiling) (1.14.1)\n",
            "Requirement already satisfied: pandas!=1.0.0,!=1.0.1,!=1.0.2,!=1.1.0,>=0.25.3 in /usr/local/lib/python3.11/dist-packages (from pandas-profiling) (2.2.2)\n",
            "Requirement already satisfied: matplotlib>=3.2.0 in /usr/local/lib/python3.11/dist-packages (from pandas-profiling) (3.10.0)\n",
            "Requirement already satisfied: pydantic>=1.8.1 in /usr/local/lib/python3.11/dist-packages (from pandas-profiling) (2.11.0)\n",
            "Requirement already satisfied: PyYAML>=5.0.0 in /usr/local/lib/python3.11/dist-packages (from pandas-profiling) (6.0.2)\n",
            "Requirement already satisfied: jinja2>=2.11.1 in /usr/local/lib/python3.11/dist-packages (from pandas-profiling) (3.1.6)\n",
            "Requirement already satisfied: markupsafe~=2.1.1 in /usr/local/lib/python3.11/dist-packages (from pandas-profiling) (2.1.5)\n",
            "Requirement already satisfied: visions==0.7.4 in /usr/local/lib/python3.11/dist-packages (from visions[type_image_path]==0.7.4->pandas-profiling) (0.7.4)\n",
            "Requirement already satisfied: numpy>=1.16.0 in /usr/local/lib/python3.11/dist-packages (from pandas-profiling) (2.2.4)\n",
            "Requirement already satisfied: htmlmin>=0.1.12 in /usr/local/lib/python3.11/dist-packages (from pandas-profiling) (0.1.12)\n",
            "Requirement already satisfied: missingno>=0.4.2 in /usr/local/lib/python3.11/dist-packages (from pandas-profiling) (0.5.2)\n",
            "Requirement already satisfied: phik>=0.11.1 in /usr/local/lib/python3.11/dist-packages (from pandas-profiling) (0.12.4)\n",
            "Requirement already satisfied: tangled-up-in-unicode==0.2.0 in /usr/local/lib/python3.11/dist-packages (from pandas-profiling) (0.2.0)\n",
            "Requirement already satisfied: requests>=2.24.0 in /usr/local/lib/python3.11/dist-packages (from pandas-profiling) (2.32.3)\n",
            "Requirement already satisfied: tqdm>=4.48.2 in /usr/local/lib/python3.11/dist-packages (from pandas-profiling) (4.67.1)\n",
            "Requirement already satisfied: seaborn>=0.10.1 in /usr/local/lib/python3.11/dist-packages (from pandas-profiling) (0.13.2)\n",
            "Requirement already satisfied: multimethod>=1.4 in /usr/local/lib/python3.11/dist-packages (from pandas-profiling) (2.0)\n",
            "Requirement already satisfied: attrs>=19.3.0 in /usr/local/lib/python3.11/dist-packages (from visions==0.7.4->visions[type_image_path]==0.7.4->pandas-profiling) (25.3.0)\n",
            "Requirement already satisfied: networkx>=2.4 in /usr/local/lib/python3.11/dist-packages (from visions==0.7.4->visions[type_image_path]==0.7.4->pandas-profiling) (3.4.2)\n",
            "Requirement already satisfied: imagehash in /usr/local/lib/python3.11/dist-packages (from visions[type_image_path]==0.7.4->pandas-profiling) (4.3.2)\n",
            "Requirement already satisfied: Pillow in /usr/local/lib/python3.11/dist-packages (from visions[type_image_path]==0.7.4->pandas-profiling) (11.1.0)\n",
            "Requirement already satisfied: contourpy>=1.0.1 in /usr/local/lib/python3.11/dist-packages (from matplotlib>=3.2.0->pandas-profiling) (1.3.1)\n",
            "Requirement already satisfied: cycler>=0.10 in /usr/local/lib/python3.11/dist-packages (from matplotlib>=3.2.0->pandas-profiling) (0.12.1)\n",
            "Requirement already satisfied: fonttools>=4.22.0 in /usr/local/lib/python3.11/dist-packages (from matplotlib>=3.2.0->pandas-profiling) (4.56.0)\n",
            "Requirement already satisfied: kiwisolver>=1.3.1 in /usr/local/lib/python3.11/dist-packages (from matplotlib>=3.2.0->pandas-profiling) (1.4.8)\n",
            "Requirement already satisfied: packaging>=20.0 in /usr/local/lib/python3.11/dist-packages (from matplotlib>=3.2.0->pandas-profiling) (24.2)\n",
            "Requirement already satisfied: pyparsing>=2.3.1 in /usr/local/lib/python3.11/dist-packages (from matplotlib>=3.2.0->pandas-profiling) (3.2.3)\n",
            "Requirement already satisfied: python-dateutil>=2.7 in /usr/local/lib/python3.11/dist-packages (from matplotlib>=3.2.0->pandas-profiling) (2.8.2)\n",
            "Requirement already satisfied: pytz>=2020.1 in /usr/local/lib/python3.11/dist-packages (from pandas!=1.0.0,!=1.0.1,!=1.0.2,!=1.1.0,>=0.25.3->pandas-profiling) (2025.2)\n",
            "Requirement already satisfied: tzdata>=2022.7 in /usr/local/lib/python3.11/dist-packages (from pandas!=1.0.0,!=1.0.1,!=1.0.2,!=1.1.0,>=0.25.3->pandas-profiling) (2025.2)\n",
            "Requirement already satisfied: annotated-types>=0.6.0 in /usr/local/lib/python3.11/dist-packages (from pydantic>=1.8.1->pandas-profiling) (0.7.0)\n",
            "Requirement already satisfied: pydantic-core==2.33.0 in /usr/local/lib/python3.11/dist-packages (from pydantic>=1.8.1->pandas-profiling) (2.33.0)\n",
            "Requirement already satisfied: typing-extensions>=4.12.2 in /usr/local/lib/python3.11/dist-packages (from pydantic>=1.8.1->pandas-profiling) (4.13.0)\n",
            "Requirement already satisfied: typing-inspection>=0.4.0 in /usr/local/lib/python3.11/dist-packages (from pydantic>=1.8.1->pandas-profiling) (0.4.0)\n",
            "Requirement already satisfied: charset-normalizer<4,>=2 in /usr/local/lib/python3.11/dist-packages (from requests>=2.24.0->pandas-profiling) (3.4.1)\n",
            "Requirement already satisfied: idna<4,>=2.5 in /usr/local/lib/python3.11/dist-packages (from requests>=2.24.0->pandas-profiling) (3.10)\n",
            "Requirement already satisfied: urllib3<3,>=1.21.1 in /usr/local/lib/python3.11/dist-packages (from requests>=2.24.0->pandas-profiling) (2.3.0)\n",
            "Requirement already satisfied: certifi>=2017.4.17 in /usr/local/lib/python3.11/dist-packages (from requests>=2.24.0->pandas-profiling) (2025.1.31)\n",
            "Requirement already satisfied: six>=1.5 in /usr/local/lib/python3.11/dist-packages (from python-dateutil>=2.7->matplotlib>=3.2.0->pandas-profiling) (1.17.0)\n",
            "Requirement already satisfied: PyWavelets in /usr/local/lib/python3.11/dist-packages (from imagehash->visions[type_image_path]==0.7.4->pandas-profiling) (1.8.0)\n"
          ]
        }
      ]
    },
    {
      "cell_type": "markdown",
      "source": [
        "<strong> 3° Análise Exploratória dos Dados </strong>"
      ],
      "metadata": {
        "id": "KCVHZ2pMixaT"
      }
    },
    {
      "cell_type": "code",
      "source": [
        "# Estrutura dos Dados\n",
        "from PIL import Image\n",
        "%matplotlib inline\n",
        "im = Image.open(\"PV.png\")\n",
        "im.show()\n",
        "im"
      ],
      "metadata": {
        "colab": {
          "base_uri": "https://localhost:8080/",
          "height": 405
        },
        "id": "_j1ejCJIiyBx",
        "outputId": "65b05ae4-3b1c-4794-8819-a453ede25a60"
      },
      "execution_count": 23,
      "outputs": [
        {
          "output_type": "execute_result",
          "data": {
            "text/plain": [
              "<PIL.PngImagePlugin.PngImageFile image mode=RGBA size=817x388>"
            ],
            "image/png": "[encoded data removed]"
          },
          "metadata": {},
          "execution_count": 23
        }
      ]
    },
    {
      "cell_type": "code",
      "source": [
        "# Importando os dados de treino e teste\n",
        "train_data = pd.read_csv('train.csv')\n",
        "test_data = pd.read_csv('test.csv')"
      ],
      "metadata": {
        "id": "y7lmhNIik6cY"
      },
      "execution_count": 24,
      "outputs": []
    },
    {
      "cell_type": "code",
      "source": [
        "# Visualizar os 10 primeiros registros\n",
        "train_data.head(10)"
      ],
      "metadata": {
        "colab": {
          "base_uri": "https://localhost:8080/",
          "height": 430
        },
        "id": "FTpN482wlTL6",
        "outputId": "14a0da4b-59bb-45af-f424-723a7176fb6e"
      },
      "execution_count": 25,
      "outputs": [
        {
          "output_type": "execute_result",
          "data": {
            "text/plain": [
              "   Item_Weight  Item_Visibility  Item_MRP  Outlet_Establishment_Year  \\\n",
              "0     6.800000         0.037490   48.6034                       2004   \n",
              "1    15.600000         0.172597  114.8518                       1997   \n",
              "2    12.911575         0.054721  107.8254                       1985   \n",
              "3    11.800000         0.098312   81.4618                       1998   \n",
              "4    17.850000         0.046600  125.1388                       2004   \n",
              "5    13.150000         0.166033  170.8764                       2009   \n",
              "6    20.600000         0.083474  120.8756                       2007   \n",
              "7    20.200000         0.074178   93.2462                       1987   \n",
              "8    12.911575         0.112250  123.3414                       1985   \n",
              "9    12.911575         0.138743  147.4760                       1985   \n",
              "\n",
              "   Item_Outlet_Sales  Item_Fat_Content_LF  Item_Fat_Content_Low Fat  \\\n",
              "0           291.6204                    0                         1   \n",
              "1          2163.1842                    0                         1   \n",
              "2          2387.5588                    0                         1   \n",
              "3           161.1236                    0                         1   \n",
              "4          1981.4208                    0                         0   \n",
              "5          2233.0932                    0                         0   \n",
              "6          1211.7560                    0                         1   \n",
              "7          1018.0082                    0                         1   \n",
              "8           243.6828                    0                         1   \n",
              "9          3368.9480                    0                         1   \n",
              "\n",
              "   Item_Fat_Content_Regular  Item_Fat_Content_low fat  Item_Fat_Content_reg  \\\n",
              "0                         0                         0                     0   \n",
              "1                         0                         0                     0   \n",
              "2                         0                         0                     0   \n",
              "3                         0                         0                     0   \n",
              "4                         1                         0                     0   \n",
              "5                         1                         0                     0   \n",
              "6                         0                         0                     0   \n",
              "7                         0                         0                     0   \n",
              "8                         0                         0                     0   \n",
              "9                         0                         0                     0   \n",
              "\n",
              "   ...  Outlet_Size_High  Outlet_Size_Medium  Outlet_Size_Small  \\\n",
              "0  ...                 0                   0                  1   \n",
              "1  ...                 0                   0                  1   \n",
              "2  ...                 0                   1                  0   \n",
              "3  ...                 0                   0                  0   \n",
              "4  ...                 0                   0                  1   \n",
              "5  ...                 0                   1                  0   \n",
              "6  ...                 0                   0                  0   \n",
              "7  ...                 1                   0                  0   \n",
              "8  ...                 0                   0                  1   \n",
              "9  ...                 0                   1                  0   \n",
              "\n",
              "   Outlet_Location_Type_Tier 1  Outlet_Location_Type_Tier 2  \\\n",
              "0                            0                            1   \n",
              "1                            1                            0   \n",
              "2                            0                            0   \n",
              "3                            0                            0   \n",
              "4                            0                            1   \n",
              "5                            0                            0   \n",
              "6                            0                            1   \n",
              "7                            0                            0   \n",
              "8                            1                            0   \n",
              "9                            0                            0   \n",
              "\n",
              "   Outlet_Location_Type_Tier 3  Outlet_Type_Grocery Store  \\\n",
              "0                            0                          0   \n",
              "1                            0                          0   \n",
              "2                            1                          0   \n",
              "3                            1                          1   \n",
              "4                            0                          0   \n",
              "5                            1                          0   \n",
              "6                            0                          0   \n",
              "7                            1                          0   \n",
              "8                            0                          1   \n",
              "9                            1                          0   \n",
              "\n",
              "   Outlet_Type_Supermarket Type1  Outlet_Type_Supermarket Type2  \\\n",
              "0                              1                              0   \n",
              "1                              1                              0   \n",
              "2                              0                              0   \n",
              "3                              0                              0   \n",
              "4                              1                              0   \n",
              "5                              0                              1   \n",
              "6                              1                              0   \n",
              "7                              1                              0   \n",
              "8                              0                              0   \n",
              "9                              0                              0   \n",
              "\n",
              "   Outlet_Type_Supermarket Type3  \n",
              "0                              0  \n",
              "1                              0  \n",
              "2                              1  \n",
              "3                              0  \n",
              "4                              0  \n",
              "5                              0  \n",
              "6                              0  \n",
              "7                              0  \n",
              "8                              0  \n",
              "9                              1  \n",
              "\n",
              "[10 rows x 36 columns]"
            ],
            "text/html": [
              "\n",
              "  <div id=\"df-3622401a-4e0d-499d-91ae-4c9a4f53e1ae\" class=\"colab-df-container\">\n",
              "    <div>\n",
              "<style scoped>\n",
              "    .dataframe tbody tr th:only-of-type {\n",
              "        vertical-align: middle;\n",
              "    }\n",
              "\n",
              "    .dataframe tbody tr th {\n",
              "        vertical-align: top;\n",
              "    }\n",
              "\n",
              "    .dataframe thead th {\n",
              "        text-align: right;\n",
              "    }\n",
              "</style>\n",
              "<table border=\"1\" class=\"dataframe\">\n",
              "  <thead>\n",
              "    <tr style=\"text-align: right;\">\n",
              "      <th></th>\n",
              "      <th>Item_Weight</th>\n",
              "      <th>Item_Visibility</th>\n",
              "      <th>Item_MRP</th>\n",
              "      <th>Outlet_Establishment_Year</th>\n",
              "      <th>Item_Outlet_Sales</th>\n",
              "      <th>Item_Fat_Content_LF</th>\n",
              "      <th>Item_Fat_Content_Low Fat</th>\n",
              "      <th>Item_Fat_Content_Regular</th>\n",
              "      <th>Item_Fat_Content_low fat</th>\n",
              "      <th>Item_Fat_Content_reg</th>\n",
              "      <th>...</th>\n",
              "      <th>Outlet_Size_High</th>\n",
              "      <th>Outlet_Size_Medium</th>\n",
              "      <th>Outlet_Size_Small</th>\n",
              "      <th>Outlet_Location_Type_Tier 1</th>\n",
              "      <th>Outlet_Location_Type_Tier 2</th>\n",
              "      <th>Outlet_Location_Type_Tier 3</th>\n",
              "      <th>Outlet_Type_Grocery Store</th>\n",
              "      <th>Outlet_Type_Supermarket Type1</th>\n",
              "      <th>Outlet_Type_Supermarket Type2</th>\n",
              "      <th>Outlet_Type_Supermarket Type3</th>\n",
              "    </tr>\n",
              "  </thead>\n",
              "  <tbody>\n",
              "    <tr>\n",
              "      <th>0</th>\n",
              "      <td>6.800000</td>\n",
              "      <td>0.037490</td>\n",
              "      <td>48.6034</td>\n",
              "      <td>2004</td>\n",
              "      <td>291.6204</td>\n",
              "      <td>0</td>\n",
              "      <td>1</td>\n",
              "      <td>0</td>\n",
              "      <td>0</td>\n",
              "      <td>0</td>\n",
              "      <td>...</td>\n",
              "      <td>0</td>\n",
              "      <td>0</td>\n",
              "      <td>1</td>\n",
              "      <td>0</td>\n",
              "      <td>1</td>\n",
              "      <td>0</td>\n",
              "      <td>0</td>\n",
              "      <td>1</td>\n",
              "      <td>0</td>\n",
              "      <td>0</td>\n",
              "    </tr>\n",
              "    <tr>\n",
              "      <th>1</th>\n",
              "      <td>15.600000</td>\n",
              "      <td>0.172597</td>\n",
              "      <td>114.8518</td>\n",
              "      <td>1997</td>\n",
              "      <td>2163.1842</td>\n",
              "      <td>0</td>\n",
              "      <td>1</td>\n",
              "      <td>0</td>\n",
              "      <td>0</td>\n",
              "      <td>0</td>\n",
              "      <td>...</td>\n",
              "      <td>0</td>\n",
              "      <td>0</td>\n",
              "      <td>1</td>\n",
              "      <td>1</td>\n",
              "      <td>0</td>\n",
              "      <td>0</td>\n",
              "      <td>0</td>\n",
              "      <td>1</td>\n",
              "      <td>0</td>\n",
              "      <td>0</td>\n",
              "    </tr>\n",
              "    <tr>\n",
              "      <th>2</th>\n",
              "      <td>12.911575</td>\n",
              "      <td>0.054721</td>\n",
              "      <td>107.8254</td>\n",
              "      <td>1985</td>\n",
              "      <td>2387.5588</td>\n",
              "      <td>0</td>\n",
              "      <td>1</td>\n",
              "      <td>0</td>\n",
              "      <td>0</td>\n",
              "      <td>0</td>\n",
              "      <td>...</td>\n",
              "      <td>0</td>\n",
              "      <td>1</td>\n",
              "      <td>0</td>\n",
              "      <td>0</td>\n",
              "      <td>0</td>\n",
              "      <td>1</td>\n",
              "      <td>0</td>\n",
              "      <td>0</td>\n",
              "      <td>0</td>\n",
              "      <td>1</td>\n",
              "    </tr>\n",
              "    <tr>\n",
              "      <th>3</th>\n",
              "      <td>11.800000</td>\n",
              "      <td>0.098312</td>\n",
              "      <td>81.4618</td>\n",
              "      <td>1998</td>\n",
              "      <td>161.1236</td>\n",
              "      <td>0</td>\n",
              "      <td>1</td>\n",
              "      <td>0</td>\n",
              "      <td>0</td>\n",
              "      <td>0</td>\n",
              "      <td>...</td>\n",
              "      <td>0</td>\n",
              "      <td>0</td>\n",
              "      <td>0</td>\n",
              "      <td>0</td>\n",
              "      <td>0</td>\n",
              "      <td>1</td>\n",
              "      <td>1</td>\n",
              "      <td>0</td>\n",
              "      <td>0</td>\n",
              "      <td>0</td>\n",
              "    </tr>\n",
              "    <tr>\n",
              "      <th>4</th>\n",
              "      <td>17.850000</td>\n",
              "      <td>0.046600</td>\n",
              "      <td>125.1388</td>\n",
              "      <td>2004</td>\n",
              "      <td>1981.4208</td>\n",
              "      <td>0</td>\n",
              "      <td>0</td>\n",
              "      <td>1</td>\n",
              "      <td>0</td>\n",
              "      <td>0</td>\n",
              "      <td>...</td>\n",
              "      <td>0</td>\n",
              "      <td>0</td>\n",
              "      <td>1</td>\n",
              "      <td>0</td>\n",
              "      <td>1</td>\n",
              "      <td>0</td>\n",
              "      <td>0</td>\n",
              "      <td>1</td>\n",
              "      <td>0</td>\n",
              "      <td>0</td>\n",
              "    </tr>\n",
              "    <tr>\n",
              "      <th>5</th>\n",
              "      <td>13.150000</td>\n",
              "      <td>0.166033</td>\n",
              "      <td>170.8764</td>\n",
              "      <td>2009</td>\n",
              "      <td>2233.0932</td>\n",
              "      <td>0</td>\n",
              "      <td>0</td>\n",
              "      <td>1</td>\n",
              "      <td>0</td>\n",
              "      <td>0</td>\n",
              "      <td>...</td>\n",
              "      <td>0</td>\n",
              "      <td>1</td>\n",
              "      <td>0</td>\n",
              "      <td>0</td>\n",
              "      <td>0</td>\n",
              "      <td>1</td>\n",
              "      <td>0</td>\n",
              "      <td>0</td>\n",
              "      <td>1</td>\n",
              "      <td>0</td>\n",
              "    </tr>\n",
              "    <tr>\n",
              "      <th>6</th>\n",
              "      <td>20.600000</td>\n",
              "      <td>0.083474</td>\n",
              "      <td>120.8756</td>\n",
              "      <td>2007</td>\n",
              "      <td>1211.7560</td>\n",
              "      <td>0</td>\n",
              "      <td>1</td>\n",
              "      <td>0</td>\n",
              "      <td>0</td>\n",
              "      <td>0</td>\n",
              "      <td>...</td>\n",
              "      <td>0</td>\n",
              "      <td>0</td>\n",
              "      <td>0</td>\n",
              "      <td>0</td>\n",
              "      <td>1</td>\n",
              "      <td>0</td>\n",
              "      <td>0</td>\n",
              "      <td>1</td>\n",
              "      <td>0</td>\n",
              "      <td>0</td>\n",
              "    </tr>\n",
              "    <tr>\n",
              "      <th>7</th>\n",
              "      <td>20.200000</td>\n",
              "      <td>0.074178</td>\n",
              "      <td>93.2462</td>\n",
              "      <td>1987</td>\n",
              "      <td>1018.0082</td>\n",
              "      <td>0</td>\n",
              "      <td>1</td>\n",
              "      <td>0</td>\n",
              "      <td>0</td>\n",
              "      <td>0</td>\n",
              "      <td>...</td>\n",
              "      <td>1</td>\n",
              "      <td>0</td>\n",
              "      <td>0</td>\n",
              "      <td>0</td>\n",
              "      <td>0</td>\n",
              "      <td>1</td>\n",
              "      <td>0</td>\n",
              "      <td>1</td>\n",
              "      <td>0</td>\n",
              "      <td>0</td>\n",
              "    </tr>\n",
              "    <tr>\n",
              "      <th>8</th>\n",
              "      <td>12.911575</td>\n",
              "      <td>0.112250</td>\n",
              "      <td>123.3414</td>\n",
              "      <td>1985</td>\n",
              "      <td>243.6828</td>\n",
              "      <td>0</td>\n",
              "      <td>1</td>\n",
              "      <td>0</td>\n",
              "      <td>0</td>\n",
              "      <td>0</td>\n",
              "      <td>...</td>\n",
              "      <td>0</td>\n",
              "      <td>0</td>\n",
              "      <td>1</td>\n",
              "      <td>1</td>\n",
              "      <td>0</td>\n",
              "      <td>0</td>\n",
              "      <td>1</td>\n",
              "      <td>0</td>\n",
              "      <td>0</td>\n",
              "      <td>0</td>\n",
              "    </tr>\n",
              "    <tr>\n",
              "      <th>9</th>\n",
              "      <td>12.911575</td>\n",
              "      <td>0.138743</td>\n",
              "      <td>147.4760</td>\n",
              "      <td>1985</td>\n",
              "      <td>3368.9480</td>\n",
              "      <td>0</td>\n",
              "      <td>1</td>\n",
              "      <td>0</td>\n",
              "      <td>0</td>\n",
              "      <td>0</td>\n",
              "      <td>...</td>\n",
              "      <td>0</td>\n",
              "      <td>1</td>\n",
              "      <td>0</td>\n",
              "      <td>0</td>\n",
              "      <td>0</td>\n",
              "      <td>1</td>\n",
              "      <td>0</td>\n",
              "      <td>0</td>\n",
              "      <td>0</td>\n",
              "      <td>1</td>\n",
              "    </tr>\n",
              "  </tbody>\n",
              "</table>\n",
              "<p>10 rows × 36 columns</p>\n",
              "</div>\n",
              "    <div class=\"colab-df-buttons\">\n",
              "\n",
              "  <div class=\"colab-df-container\">\n",
              "    <button class=\"colab-df-convert\" onclick=\"convertToInteractive('df-3622401a-4e0d-499d-91ae-4c9a4f53e1ae')\"\n",
              "            title=\"Convert this dataframe to an interactive table.\"\n",
              "            style=\"display:none;\">\n",
              "\n",
              "  <svg xmlns=\"http://www.w3.org/2000/svg\" height=\"24px\" viewBox=\"0 -960 960 960\">\n",
              "    <path d=\"M120-120v-720h720v720H120Zm60-500h600v-160H180v160Zm220 220h160v-160H400v160Zm0 220h160v-160H400v160ZM180-400h160v-160H180v160Zm440 0h160v-160H620v160ZM180-180h160v-160H180v160Zm440 0h160v-160H620v160Z\"/>\n",
              "  </svg>\n",
              "    </button>\n",
              "\n",
              "  <style>\n",
              "    .colab-df-container {\n",
              "      display:flex;\n",
              "      gap: 12px;\n",
              "    }\n",
              "\n",
              "    .colab-df-convert {\n",
              "      background-color: #E8F0FE;\n",
              "      border: none;\n",
              "      border-radius: 50%;\n",
              "      cursor: pointer;\n",
              "      display: none;\n",
              "      fill: #1967D2;\n",
              "      height: 32px;\n",
              "      padding: 0 0 0 0;\n",
              "      width: 32px;\n",
              "    }\n",
              "\n",
              "    .colab-df-convert:hover {\n",
              "      background-color: #E2EBFA;\n",
              "      box-shadow: 0px 1px 2px rgba(60, 64, 67, 0.3), 0px 1px 3px 1px rgba(60, 64, 67, 0.15);\n",
              "      fill: #174EA6;\n",
              "    }\n",
              "\n",
              "    .colab-df-buttons div {\n",
              "      margin-bottom: 4px;\n",
              "    }\n",
              "\n",
              "    [theme=dark] .colab-df-convert {\n",
              "      background-color: #3B4455;\n",
              "      fill: #D2E3FC;\n",
              "    }\n",
              "\n",
              "    [theme=dark] .colab-df-convert:hover {\n",
              "      background-color: #434B5C;\n",
              "      box-shadow: 0px 1px 3px 1px rgba(0, 0, 0, 0.15);\n",
              "      filter: drop-shadow(0px 1px 2px rgba(0, 0, 0, 0.3));\n",
              "      fill: #FFFFFF;\n",
              "    }\n",
              "  </style>\n",
              "\n",
              "    <script>\n",
              "      const buttonEl =\n",
              "        document.querySelector('#df-3622401a-4e0d-499d-91ae-4c9a4f53e1ae button.colab-df-convert');\n",
              "      buttonEl.style.display =\n",
              "        google.colab.kernel.accessAllowed ? 'block' : 'none';\n",
              "\n",
              "      async function convertToInteractive(key) {\n",
              "        const element = document.querySelector('#df-3622401a-4e0d-499d-91ae-4c9a4f53e1ae');\n",
              "        const dataTable =\n",
              "          await google.colab.kernel.invokeFunction('convertToInteractive',\n",
              "                                                    [key], {});\n",
              "        if (!dataTable) return;\n",
              "\n",
              "        const docLinkHtml = 'Like what you see? Visit the ' +\n",
              "          '<a target=\"_blank\" href=https://colab.research.google.com/notebooks/data_table.ipynb>data table notebook</a>'\n",
              "          + ' to learn more about interactive tables.';\n",
              "        element.innerHTML = '';\n",
              "        dataTable['output_type'] = 'display_data';\n",
              "        await google.colab.output.renderOutput(dataTable, element);\n",
              "        const docLink = document.createElement('div');\n",
              "        docLink.innerHTML = docLinkHtml;\n",
              "        element.appendChild(docLink);\n",
              "      }\n",
              "    </script>\n",
              "  </div>\n",
              "\n",
              "\n",
              "<div id=\"df-000d70df-1530-44c5-80ca-d6eee90c4cbc\">\n",
              "  <button class=\"colab-df-quickchart\" onclick=\"quickchart('df-000d70df-1530-44c5-80ca-d6eee90c4cbc')\"\n",
              "            title=\"Suggest charts\"\n",
              "            style=\"display:none;\">\n",
              "\n",
              "<svg xmlns=\"http://www.w3.org/2000/svg\" height=\"24px\"viewBox=\"0 0 24 24\"\n",
              "     width=\"24px\">\n",
              "    <g>\n",
              "        <path d=\"M19 3H5c-1.1 0-2 .9-2 2v14c0 1.1.9 2 2 2h14c1.1 0 2-.9 2-2V5c0-1.1-.9-2-2-2zM9 17H7v-7h2v7zm4 0h-2V7h2v10zm4 0h-2v-4h2v4z\"/>\n",
              "    </g>\n",
              "</svg>\n",
              "  </button>\n",
              "\n",
              "<style>\n",
              "  .colab-df-quickchart {\n",
              "      --bg-color: #E8F0FE;\n",
              "      --fill-color: #1967D2;\n",
              "      --hover-bg-color: #E2EBFA;\n",
              "      --hover-fill-color: #174EA6;\n",
              "      --disabled-fill-color: #AAA;\n",
              "      --disabled-bg-color: #DDD;\n",
              "  }\n",
              "\n",
              "  [theme=dark] .colab-df-quickchart {\n",
              "      --bg-color: #3B4455;\n",
              "      --fill-color: #D2E3FC;\n",
              "      --hover-bg-color: #434B5C;\n",
              "      --hover-fill-color: #FFFFFF;\n",
              "      --disabled-bg-color: #3B4455;\n",
              "      --disabled-fill-color: #666;\n",
              "  }\n",
              "\n",
              "  .colab-df-quickchart {\n",
              "    background-color: var(--bg-color);\n",
              "    border: none;\n",
              "    border-radius: 50%;\n",
              "    cursor: pointer;\n",
              "    display: none;\n",
              "    fill: var(--fill-color);\n",
              "    height: 32px;\n",
              "    padding: 0;\n",
              "    width: 32px;\n",
              "  }\n",
              "\n",
              "  .colab-df-quickchart:hover {\n",
              "    background-color: var(--hover-bg-color);\n",
              "    box-shadow: 0 1px 2px rgba(60, 64, 67, 0.3), 0 1px 3px 1px rgba(60, 64, 67, 0.15);\n",
              "    fill: var(--button-hover-fill-color);\n",
              "  }\n",
              "\n",
              "  .colab-df-quickchart-complete:disabled,\n",
              "  .colab-df-quickchart-complete:disabled:hover {\n",
              "    background-color: var(--disabled-bg-color);\n",
              "    fill: var(--disabled-fill-color);\n",
              "    box-shadow: none;\n",
              "  }\n",
              "\n",
              "  .colab-df-spinner {\n",
              "    border: 2px solid var(--fill-color);\n",
              "    border-color: transparent;\n",
              "    border-bottom-color: var(--fill-color);\n",
              "    animation:\n",
              "      spin 1s steps(1) infinite;\n",
              "  }\n",
              "\n",
              "  @keyframes spin {\n",
              "    0% {\n",
              "      border-color: transparent;\n",
              "      border-bottom-color: var(--fill-color);\n",
              "      border-left-color: var(--fill-color);\n",
              "    }\n",
              "    20% {\n",
              "      border-color: transparent;\n",
              "      border-left-color: var(--fill-color);\n",
              "      border-top-color: var(--fill-color);\n",
              "    }\n",
              "    30% {\n",
              "      border-color: transparent;\n",
              "      border-left-color: var(--fill-color);\n",
              "      border-top-color: var(--fill-color);\n",
              "      border-right-color: var(--fill-color);\n",
              "    }\n",
              "    40% {\n",
              "      border-color: transparent;\n",
              "      border-right-color: var(--fill-color);\n",
              "      border-top-color: var(--fill-color);\n",
              "    }\n",
              "    60% {\n",
              "      border-color: transparent;\n",
              "      border-right-color: var(--fill-color);\n",
              "    }\n",
              "    80% {\n",
              "      border-color: transparent;\n",
              "      border-right-color: var(--fill-color);\n",
              "      border-bottom-color: var(--fill-color);\n",
              "    }\n",
              "    90% {\n",
              "      border-color: transparent;\n",
              "      border-bottom-color: var(--fill-color);\n",
              "    }\n",
              "  }\n",
              "</style>\n",
              "\n",
              "  <script>\n",
              "    async function quickchart(key) {\n",
              "      const quickchartButtonEl =\n",
              "        document.querySelector('#' + key + ' button');\n",
              "      quickchartButtonEl.disabled = true;  // To prevent multiple clicks.\n",
              "      quickchartButtonEl.classList.add('colab-df-spinner');\n",
              "      try {\n",
              "        const charts = await google.colab.kernel.invokeFunction(\n",
              "            'suggestCharts', [key], {});\n",
              "      } catch (error) {\n",
              "        console.error('Error during call to suggestCharts:', error);\n",
              "      }\n",
              "      quickchartButtonEl.classList.remove('colab-df-spinner');\n",
              "      quickchartButtonEl.classList.add('colab-df-quickchart-complete');\n",
              "    }\n",
              "    (() => {\n",
              "      let quickchartButtonEl =\n",
              "        document.querySelector('#df-000d70df-1530-44c5-80ca-d6eee90c4cbc button');\n",
              "      quickchartButtonEl.style.display =\n",
              "        google.colab.kernel.accessAllowed ? 'block' : 'none';\n",
              "    })();\n",
              "  </script>\n",
              "</div>\n",
              "\n",
              "    </div>\n",
              "  </div>\n"
            ],
            "application/vnd.google.colaboratory.intrinsic+json": {
              "type": "dataframe",
              "variable_name": "train_data"
            }
          },
          "metadata": {},
          "execution_count": 25
        }
      ]
    },
    {
      "cell_type": "code",
      "source": [
        "# shape dos dados\n",
        "print('\\nShape of training data :',train_data.shape)\n",
        "print('\\nShape of testing data :',test_data.shape)"
      ],
      "metadata": {
        "colab": {
          "base_uri": "https://localhost:8080/"
        },
        "id": "WLyGNSyNlc8T",
        "outputId": "420d43a5-cf28-42f1-94b8-bf22337e42c6"
      },
      "execution_count": 26,
      "outputs": [
        {
          "output_type": "stream",
          "name": "stdout",
          "text": [
            "\n",
            "Shape of training data : (1364, 36)\n",
            "\n",
            "Shape of testing data : (341, 36)\n"
          ]
        }
      ]
    },
    {
      "cell_type": "markdown",
      "source": [
        "###Conhecendo o Pandas Profiling\n",
        "\n",
        "O Pandas Profiling é uma ferramenta Python que gera relatórios exploratórios automáticos a partir de um DataFrame do pandas. Ele fornece estatísticas descritivas, análise de correlação, gráficos interativos, e identifica dados faltantes e outliers. A ferramenta também analisa variáveis categóricas, facilitando a compreensão do conjunto de dados. Ideal para análise inicial e pré-processamento de dados."
      ],
      "metadata": {
        "id": "PglnCpaOlspG"
      }
    },
    {
      "cell_type": "code",
      "source": [
        "from pandas_profiling import ProfileReport\n",
        "profile = ProfileReport(train_data, title='Vendas do Supermercado Comercial Esperanca',html={'style':{'full_width':True}})\n",
        "profile.to_notebook_iframe()\n",
        "profile.to_file(output_file=\"Relatório- Base de Dados.html\")"
      ],
      "metadata": {
        "colab": {
          "base_uri": "https://localhost:8080/",
          "height": 598
        },
        "id": "0kvSMZ-olp27",
        "outputId": "6fb29118-c370-4702-d403-1cae7cb1ed65"
      },
      "execution_count": 27,
      "outputs": [
        {
          "output_type": "error",
          "ename": "PydanticImportError",
          "evalue": "`BaseSettings` has been moved to the `pydantic-settings` package. See https://docs.pydantic.dev/2.11/migration/#basesettings-has-moved-to-pydantic-settings for more details.\n\nFor further information visit https://errors.pydantic.dev/2.11/u/import-error",
          "traceback": [
            "\u001b[0;31m---------------------------------------------------------------------------\u001b[0m",
            "\u001b[0;31mPydanticImportError\u001b[0m                       Traceback (most recent call last)",
            "\u001b[0;32m<ipython-input-27-9aa991cd40fa>\u001b[0m in \u001b[0;36m<cell line: 0>\u001b[0;34m()\u001b[0m\n\u001b[0;32m----> 1\u001b[0;31m \u001b[0;32mfrom\u001b[0m \u001b[0mpandas_profiling\u001b[0m \u001b[0;32mimport\u001b[0m \u001b[0mProfileReport\u001b[0m\u001b[0;34m\u001b[0m\u001b[0;34m\u001b[0m\u001b[0m\n\u001b[0m\u001b[1;32m      2\u001b[0m \u001b[0mprofile\u001b[0m \u001b[0;34m=\u001b[0m \u001b[0mProfileReport\u001b[0m\u001b[0;34m(\u001b[0m\u001b[0mtrain_data\u001b[0m\u001b[0;34m,\u001b[0m \u001b[0mtitle\u001b[0m\u001b[0;34m=\u001b[0m\u001b[0;34m'Vendas do Supermercado Comercial Esperanca'\u001b[0m\u001b[0;34m,\u001b[0m\u001b[0mhtml\u001b[0m\u001b[0;34m=\u001b[0m\u001b[0;34m{\u001b[0m\u001b[0;34m'style'\u001b[0m\u001b[0;34m:\u001b[0m\u001b[0;34m{\u001b[0m\u001b[0;34m'full_width'\u001b[0m\u001b[0;34m:\u001b[0m\u001b[0;32mTrue\u001b[0m\u001b[0;34m}\u001b[0m\u001b[0;34m}\u001b[0m\u001b[0;34m)\u001b[0m\u001b[0;34m\u001b[0m\u001b[0;34m\u001b[0m\u001b[0m\n\u001b[1;32m      3\u001b[0m \u001b[0mprofile\u001b[0m\u001b[0;34m.\u001b[0m\u001b[0mto_notebook_iframe\u001b[0m\u001b[0;34m(\u001b[0m\u001b[0;34m)\u001b[0m\u001b[0;34m\u001b[0m\u001b[0;34m\u001b[0m\u001b[0m\n\u001b[1;32m      4\u001b[0m \u001b[0mprofile\u001b[0m\u001b[0;34m.\u001b[0m\u001b[0mto_file\u001b[0m\u001b[0;34m(\u001b[0m\u001b[0moutput_file\u001b[0m\u001b[0;34m=\u001b[0m\u001b[0;34m\"Relatório- Base de Dados.html\"\u001b[0m\u001b[0;34m)\u001b[0m\u001b[0;34m\u001b[0m\u001b[0;34m\u001b[0m\u001b[0m\n",
            "\u001b[0;32m/usr/local/lib/python3.11/dist-packages/pandas_profiling/__init__.py\u001b[0m in \u001b[0;36m<module>\u001b[0;34m\u001b[0m\n\u001b[1;32m      4\u001b[0m \"\"\"\n\u001b[1;32m      5\u001b[0m \u001b[0;34m\u001b[0m\u001b[0m\n\u001b[0;32m----> 6\u001b[0;31m \u001b[0;32mfrom\u001b[0m \u001b[0mpandas_profiling\u001b[0m\u001b[0;34m.\u001b[0m\u001b[0mcontroller\u001b[0m \u001b[0;32mimport\u001b[0m \u001b[0mpandas_decorator\u001b[0m\u001b[0;34m\u001b[0m\u001b[0;34m\u001b[0m\u001b[0m\n\u001b[0m\u001b[1;32m      7\u001b[0m \u001b[0;32mfrom\u001b[0m \u001b[0mpandas_profiling\u001b[0m\u001b[0;34m.\u001b[0m\u001b[0mprofile_report\u001b[0m \u001b[0;32mimport\u001b[0m \u001b[0mProfileReport\u001b[0m\u001b[0;34m\u001b[0m\u001b[0;34m\u001b[0m\u001b[0m\n\u001b[1;32m      8\u001b[0m \u001b[0;32mfrom\u001b[0m \u001b[0mpandas_profiling\u001b[0m\u001b[0;34m.\u001b[0m\u001b[0mversion\u001b[0m \u001b[0;32mimport\u001b[0m \u001b[0m__version__\u001b[0m\u001b[0;34m\u001b[0m\u001b[0;34m\u001b[0m\u001b[0m\n",
            "\u001b[0;32m/usr/local/lib/python3.11/dist-packages/pandas_profiling/controller/pandas_decorator.py\u001b[0m in \u001b[0;36m<module>\u001b[0;34m\u001b[0m\n\u001b[1;32m      2\u001b[0m \u001b[0;32mfrom\u001b[0m \u001b[0mpandas\u001b[0m \u001b[0;32mimport\u001b[0m \u001b[0mDataFrame\u001b[0m\u001b[0;34m\u001b[0m\u001b[0;34m\u001b[0m\u001b[0m\n\u001b[1;32m      3\u001b[0m \u001b[0;34m\u001b[0m\u001b[0m\n\u001b[0;32m----> 4\u001b[0;31m \u001b[0;32mfrom\u001b[0m \u001b[0mpandas_profiling\u001b[0m\u001b[0;34m.\u001b[0m\u001b[0mprofile_report\u001b[0m \u001b[0;32mimport\u001b[0m \u001b[0mProfileReport\u001b[0m\u001b[0;34m\u001b[0m\u001b[0;34m\u001b[0m\u001b[0m\n\u001b[0m\u001b[1;32m      5\u001b[0m \u001b[0;34m\u001b[0m\u001b[0m\n\u001b[1;32m      6\u001b[0m \u001b[0;34m\u001b[0m\u001b[0m\n",
            "\u001b[0;32m/usr/local/lib/python3.11/dist-packages/pandas_profiling/profile_report.py\u001b[0m in \u001b[0;36m<module>\u001b[0;34m\u001b[0m\n\u001b[1;32m     11\u001b[0m \u001b[0;32mfrom\u001b[0m \u001b[0mvisions\u001b[0m \u001b[0;32mimport\u001b[0m \u001b[0mVisionsTypeset\u001b[0m\u001b[0;34m\u001b[0m\u001b[0;34m\u001b[0m\u001b[0m\n\u001b[1;32m     12\u001b[0m \u001b[0;34m\u001b[0m\u001b[0m\n\u001b[0;32m---> 13\u001b[0;31m \u001b[0;32mfrom\u001b[0m \u001b[0mpandas_profiling\u001b[0m\u001b[0;34m.\u001b[0m\u001b[0mconfig\u001b[0m \u001b[0;32mimport\u001b[0m \u001b[0mConfig\u001b[0m\u001b[0;34m,\u001b[0m \u001b[0mSettings\u001b[0m\u001b[0;34m\u001b[0m\u001b[0;34m\u001b[0m\u001b[0m\n\u001b[0m\u001b[1;32m     14\u001b[0m \u001b[0;32mfrom\u001b[0m \u001b[0mpandas_profiling\u001b[0m\u001b[0;34m.\u001b[0m\u001b[0mexpectations_report\u001b[0m \u001b[0;32mimport\u001b[0m \u001b[0mExpectationsReport\u001b[0m\u001b[0;34m\u001b[0m\u001b[0;34m\u001b[0m\u001b[0m\n\u001b[1;32m     15\u001b[0m \u001b[0;32mfrom\u001b[0m \u001b[0mpandas_profiling\u001b[0m\u001b[0;34m.\u001b[0m\u001b[0mmodel\u001b[0m\u001b[0;34m.\u001b[0m\u001b[0malerts\u001b[0m \u001b[0;32mimport\u001b[0m \u001b[0mAlertType\u001b[0m\u001b[0;34m\u001b[0m\u001b[0;34m\u001b[0m\u001b[0m\n",
            "\u001b[0;32m/usr/local/lib/python3.11/dist-packages/pandas_profiling/config.py\u001b[0m in \u001b[0;36m<module>\u001b[0;34m\u001b[0m\n\u001b[1;32m      3\u001b[0m \u001b[0;32mfrom\u001b[0m \u001b[0mtyping\u001b[0m \u001b[0;32mimport\u001b[0m \u001b[0mAny\u001b[0m\u001b[0;34m,\u001b[0m \u001b[0mDict\u001b[0m\u001b[0;34m,\u001b[0m \u001b[0mList\u001b[0m\u001b[0;34m,\u001b[0m \u001b[0mOptional\u001b[0m\u001b[0;34m\u001b[0m\u001b[0;34m\u001b[0m\u001b[0m\n\u001b[1;32m      4\u001b[0m \u001b[0;34m\u001b[0m\u001b[0m\n\u001b[0;32m----> 5\u001b[0;31m \u001b[0;32mfrom\u001b[0m \u001b[0mpydantic\u001b[0m \u001b[0;32mimport\u001b[0m \u001b[0mBaseModel\u001b[0m\u001b[0;34m,\u001b[0m \u001b[0mBaseSettings\u001b[0m\u001b[0;34m,\u001b[0m \u001b[0mField\u001b[0m\u001b[0;34m\u001b[0m\u001b[0;34m\u001b[0m\u001b[0m\n\u001b[0m\u001b[1;32m      6\u001b[0m \u001b[0;34m\u001b[0m\u001b[0m\n\u001b[1;32m      7\u001b[0m \u001b[0;34m\u001b[0m\u001b[0m\n",
            "\u001b[0;32m/usr/local/lib/python3.11/dist-packages/pydantic/__init__.py\u001b[0m in \u001b[0;36m__getattr__\u001b[0;34m(attr_name)\u001b[0m\n\u001b[1;32m    424\u001b[0m     \u001b[0mdynamic_attr\u001b[0m \u001b[0;34m=\u001b[0m \u001b[0m_dynamic_imports\u001b[0m\u001b[0;34m.\u001b[0m\u001b[0mget\u001b[0m\u001b[0;34m(\u001b[0m\u001b[0mattr_name\u001b[0m\u001b[0;34m)\u001b[0m\u001b[0;34m\u001b[0m\u001b[0;34m\u001b[0m\u001b[0m\n\u001b[1;32m    425\u001b[0m     \u001b[0;32mif\u001b[0m \u001b[0mdynamic_attr\u001b[0m \u001b[0;32mis\u001b[0m \u001b[0;32mNone\u001b[0m\u001b[0;34m:\u001b[0m\u001b[0;34m\u001b[0m\u001b[0;34m\u001b[0m\u001b[0m\n\u001b[0;32m--> 426\u001b[0;31m         \u001b[0;32mreturn\u001b[0m \u001b[0m_getattr_migration\u001b[0m\u001b[0;34m(\u001b[0m\u001b[0mattr_name\u001b[0m\u001b[0;34m)\u001b[0m\u001b[0;34m\u001b[0m\u001b[0;34m\u001b[0m\u001b[0m\n\u001b[0m\u001b[1;32m    427\u001b[0m \u001b[0;34m\u001b[0m\u001b[0m\n\u001b[1;32m    428\u001b[0m     \u001b[0mpackage\u001b[0m\u001b[0;34m,\u001b[0m \u001b[0mmodule_name\u001b[0m \u001b[0;34m=\u001b[0m \u001b[0mdynamic_attr\u001b[0m\u001b[0;34m\u001b[0m\u001b[0;34m\u001b[0m\u001b[0m\n",
            "\u001b[0;32m/usr/local/lib/python3.11/dist-packages/pydantic/_migration.py\u001b[0m in \u001b[0;36mwrapper\u001b[0;34m(name)\u001b[0m\n\u001b[1;32m    294\u001b[0m             \u001b[0;32mreturn\u001b[0m \u001b[0mimport_string\u001b[0m\u001b[0;34m(\u001b[0m\u001b[0mREDIRECT_TO_V1\u001b[0m\u001b[0;34m[\u001b[0m\u001b[0mimport_path\u001b[0m\u001b[0;34m]\u001b[0m\u001b[0;34m)\u001b[0m\u001b[0;34m\u001b[0m\u001b[0;34m\u001b[0m\u001b[0m\n\u001b[1;32m    295\u001b[0m         \u001b[0;32mif\u001b[0m \u001b[0mimport_path\u001b[0m \u001b[0;34m==\u001b[0m \u001b[0;34m'pydantic:BaseSettings'\u001b[0m\u001b[0;34m:\u001b[0m\u001b[0;34m\u001b[0m\u001b[0;34m\u001b[0m\u001b[0m\n\u001b[0;32m--> 296\u001b[0;31m             raise PydanticImportError(\n\u001b[0m\u001b[1;32m    297\u001b[0m                 \u001b[0;34m'`BaseSettings` has been moved to the `pydantic-settings` package. '\u001b[0m\u001b[0;34m\u001b[0m\u001b[0;34m\u001b[0m\u001b[0m\n\u001b[1;32m    298\u001b[0m                 \u001b[0;34mf'See https://docs.pydantic.dev/{version_short()}/migration/#basesettings-has-moved-to-pydantic-settings '\u001b[0m\u001b[0;34m\u001b[0m\u001b[0;34m\u001b[0m\u001b[0m\n",
            "\u001b[0;31mPydanticImportError\u001b[0m: `BaseSettings` has been moved to the `pydantic-settings` package. See https://docs.pydantic.dev/2.11/migration/#basesettings-has-moved-to-pydantic-settings for more details.\n\nFor further information visit https://errors.pydantic.dev/2.11/u/import-error",
            "",
            "\u001b[0;31m---------------------------------------------------------------------------\u001b[0;32m\nNOTE: If your import is failing due to a missing package, you can\nmanually install dependencies using either !pip or !apt.\n\nTo view examples of installing some common dependencies, click the\n\"Open Examples\" button below.\n\u001b[0;31m---------------------------------------------------------------------------\u001b[0m\n"
          ],
          "errorDetails": {
            "actions": [
              {
                "action": "open_url",
                "actionText": "Open Examples",
                "url": "/notebooks/snippets/importing_libraries.ipynb"
              }
            ]
          }
        }
      ]
    },
    {
      "cell_type": "code",
      "source": [
        "# Pré-processamento dos dados - Amostra Treino e Teste\n",
        "\n",
        "# Dados de Treino - Preparação para modelagem - Separação das  variáveis de entrada e variável de saida (target/label.....o que queremos prever...)\n",
        "train_x = train_data.drop(columns=['Item_Outlet_Sales'],axis=1)\n",
        "train_y = train_data['Item_Outlet_Sales']\n",
        "\n",
        "# Dados de Teste - Preparação para modelagem - Separação das  variáveis de entrada e variável de saida (target/label.....o que queremos prever...)\n",
        "test_x = test_data.drop(columns=['Item_Outlet_Sales'],axis=1)\n",
        "test_y = test_data['Item_Outlet_Sales']"
      ],
      "metadata": {
        "id": "wIef82d1rqPO"
      },
      "execution_count": 28,
      "outputs": []
    },
    {
      "cell_type": "markdown",
      "source": [
        "<strong> 4° Machine Learning  </strong>"
      ],
      "metadata": {
        "id": "fRwdBZZxr_ly"
      }
    },
    {
      "cell_type": "code",
      "source": [
        "# Modelagem\n",
        "\n",
        "## Criação do Modelo - Linear Regression\n",
        "model_L = LinearRegression()\n",
        "\n",
        "# obs: Você pode adicionar parâmetros e testar para ver se melhora o resultado da sua predição\n",
        "# Como por exemplo os parâmetros \"fit_intercept\" e \"normalize\"\n",
        "# Documentação do sklearn LinearRegression:"
      ],
      "metadata": {
        "id": "9lssuMTSsAIK"
      },
      "execution_count": 29,
      "outputs": []
    },
    {
      "cell_type": "markdown",
      "source": [
        "https://scikit-learn.org/stable/modules/generated/sklearn.linear_model.LinearRegression.html\n",
        "\n",
        "* O LinearRegression do scikit-learn é um modelo de regressão linear usado para prever um valor contínuo com base em uma ou mais variáveis independentes. Ele ajusta uma linha reta (ou hiperplano) aos dados. O parâmetro fit_intercept define se o modelo deve calcular o intercepto, enquanto normalize foi depreciado, e a normalização deve ser feita separadamente. O parâmetro copy_X determina se os dados de entrada devem ser copiados durante o treinamento. Ele é amplamente utilizado para problemas de previsão de valores contínuos."
      ],
      "metadata": {
        "id": "FI4hLvJcsHKF"
      }
    },
    {
      "cell_type": "code",
      "source": [
        "# Treino do modelo - Dados de Treino\n",
        "model_L.fit(train_x,train_y)\n",
        "\n",
        "# Coeficientes do modelo Treinado\n",
        "print('\\nCoefficient of model :', model_L.coef_)\n",
        "\n",
        "# intercepto do Modelo\n",
        "print('\\nIntercept of model',model_L.intercept_)"
      ],
      "metadata": {
        "colab": {
          "base_uri": "https://localhost:8080/"
        },
        "id": "yVOrGBiVsawV",
        "outputId": "29a50a8c-2bd3-404a-e8f6-55445fcb6913"
      },
      "execution_count": 30,
      "outputs": [
        {
          "output_type": "stream",
          "name": "stdout",
          "text": [
            "\n",
            "Coefficient of model : [-3.84197604e+00  9.83065945e+00  1.61711856e+01  6.09197622e+01\n",
            " -8.64161561e+01  1.23593376e+02  2.34714039e+02 -2.44597425e+02\n",
            " -2.72938329e+01 -8.09611456e+00 -3.01147840e+02  1.70727611e+02\n",
            " -5.40194744e+01  7.34248834e+01  1.70313375e+00 -5.07701615e+01\n",
            "  1.63553657e+02 -5.85286125e+01  1.04913492e+02 -6.01944874e+01\n",
            "  1.98948206e+02 -1.40959023e+02  1.19426257e+02  2.66382669e+01\n",
            " -1.85619792e+02  1.43925357e+03  2.16134663e+02  3.54723990e+01\n",
            "  3.54832996e+02 -5.54559635e+00 -3.49287400e+02 -1.39202954e+03\n",
            " -2.57982359e+02 -9.59016062e+02  2.60902796e+03]\n",
            "\n",
            "Intercept of model -121926.97473298338\n"
          ]
        }
      ]
    },
    {
      "cell_type": "code",
      "source": [
        "# Fazendo Previsões com os dados de treino\n",
        "predict_train = model_L.predict(train_x)\n",
        "print('\\nItem_Outlet_Sales on training data',predict_train)"
      ],
      "metadata": {
        "colab": {
          "base_uri": "https://localhost:8080/"
        },
        "id": "H7pQj_qLskkr",
        "outputId": "f7739b8c-cd1e-4b2b-9105-800e78b3a1d3"
      },
      "execution_count": 34,
      "outputs": [
        {
          "output_type": "stream",
          "name": "stdout",
          "text": [
            "\n",
            "Item_Outlet_Sales on training data [ 803.88817641 1733.98835979 3294.52154482 ...  811.16967914 2343.96927185\n",
            " 2444.98869913]\n"
          ]
        }
      ]
    },
    {
      "cell_type": "code",
      "source": [
        "# Calculando o RMSE Root Mean Squared Error - nos dados de treino\n",
        "rmse_train = mean_squared_error(train_y,predict_train)**(0.5)\n",
        "print('\\nRMSE on train dataset : ', rmse_train)"
      ],
      "metadata": {
        "colab": {
          "base_uri": "https://localhost:8080/"
        },
        "id": "bbd61EI0smlO",
        "outputId": "a673174e-9e25-4878-d8c1-10a467d5bb96"
      },
      "execution_count": 35,
      "outputs": [
        {
          "output_type": "stream",
          "name": "stdout",
          "text": [
            "\n",
            "RMSE on train dataset :  1135.8159344155245\n"
          ]
        }
      ]
    },
    {
      "cell_type": "code",
      "source": [
        "# Fazendo Previsões com os dados de teste\n",
        "predict_test = model_L.predict(test_x)\n",
        "print('\\nItem_Outlet_Sales on test data',predict_test)"
      ],
      "metadata": {
        "colab": {
          "base_uri": "https://localhost:8080/"
        },
        "id": "yk-s0s_atknD",
        "outputId": "d9b28932-b4c4-4629-b7c7-09cf14e691d5"
      },
      "execution_count": 36,
      "outputs": [
        {
          "output_type": "stream",
          "name": "stdout",
          "text": [
            "\n",
            "Item_Outlet_Sales on test data [ 1615.37962439  3168.60806673  2564.31326686  2685.29698657\n",
            "  2771.82059109  4223.3788671   2615.10827403   565.8088248\n",
            "  4000.68496927  1035.54578573  2184.60316447  1033.54185437\n",
            "   150.22804639  1616.19932803  2370.37858454  1953.693325\n",
            "  2307.09514556  1429.85271583  2343.42149697  3780.28905363\n",
            "   583.44339124  1089.08346168  2323.64661483  3559.90832258\n",
            "  1829.46789667  1602.03985138   840.70282292  1823.14253132\n",
            "  3145.30906529  1823.30397678  2103.35401623  3025.02597477\n",
            "  2265.03907268   697.33936172  4474.05156681  2270.45195749\n",
            "  1897.45212218  3305.0110824   2228.36615412  3767.90052861\n",
            "  2162.33844917   665.40410258  -926.22966666   738.30407877\n",
            "   197.90808777  2483.25075805  3693.05388376  2458.43116228\n",
            "  1329.02544771   -57.67123156  1952.26612825  3614.4167807\n",
            "  2127.22359714  2486.1932574   1826.90446272   786.7283994\n",
            "  3200.67525412  1981.66000538  2326.98747373  3535.12951812\n",
            "    53.4756877    129.4629475   4259.8975191   3732.15225981\n",
            "  4454.54642228   717.26348394  1431.6614166    581.01605137\n",
            "  1119.93954645  2392.48117429  1155.07145201  3528.03281464\n",
            "  2044.86804694   455.24692632  1342.74411911  1033.2840843\n",
            "  1406.11005231   794.30323743  1098.87255812    83.75695654\n",
            "  1250.60074702  1495.67548794  2424.43083225  1844.12427139\n",
            "  3082.43684194  3765.07357641   771.99003119  4435.95849625\n",
            "   738.14937479   850.57494768  2622.28171329  1655.50682655\n",
            "   907.1351255   4290.06774145   953.43327412  5344.75965244\n",
            "  4088.62424173  2806.91278755  3128.8067004   1928.5781408\n",
            "  4036.11769697  3180.16424086  3139.20756065   542.83160506\n",
            "  2532.07785569  1105.76857669  3504.70144046  3939.48193634\n",
            "   333.08756699  1948.88080922  1231.78773626  2740.61520829\n",
            "  2346.30720313  3424.19140178  3051.02145123  1014.75408262\n",
            "  1782.52495649  1841.62002811  3947.82775657  1614.81023184\n",
            "  1389.86016917  1928.35682551  2619.4880638   2472.77585379\n",
            "  2692.29331855    78.62892708  2330.19059149  4159.73973081\n",
            "  4529.46230433  2264.57300155  1826.88342763  1275.25198009\n",
            "  -457.62680268   329.71458616  5805.46289307 -1450.16404187\n",
            "  1501.61687972  2965.88387942  1611.61916429  1886.73538613\n",
            "  1242.79778954  4296.14339619  1728.68334987  1509.00474116\n",
            "  2260.5918405   4159.20469494  3193.38759006  1509.53713972\n",
            "  2210.42073119  5754.97388686 -1170.50864902  3162.64617061\n",
            "  1994.01620756  1917.42431232  4404.60357762   997.35766781\n",
            "  1742.51236828  2265.77611998  2543.6189625   1469.66880224\n",
            "  1975.14690278  1225.30048856  4218.66518874  1697.85375137\n",
            "  2790.38688349  3935.99362435   625.06246143  2373.6866766\n",
            "  1831.0172668   1796.26777    -1075.85814761   427.15550704\n",
            "  1746.36375123   233.53413014  1774.33869755  2918.17108391\n",
            "  1912.23196062  3497.76791      605.64499947   761.50725234\n",
            "   575.95154528  2460.73367421  1613.43332209  1746.36921802\n",
            "  1366.92450243  2750.82093523  2708.27802108  2113.05123036\n",
            "  4091.83752837  2621.18104708  3834.85938706   866.33297998\n",
            "  3178.14854212  1320.60993899   614.11653153  2996.50726857\n",
            "  4183.21848289  2768.14376223  1894.7224403   2168.35936706\n",
            "  -430.75854506  1752.34512895  2547.47132497  3202.07672874\n",
            "  4158.43802333  2603.79263873  4096.2558171   4530.17698005\n",
            "  2657.59669754  1845.45481481  3390.50113508  2297.02310717\n",
            "  1935.22179911  1039.45233714  1610.06188742  2349.26388899\n",
            "  1687.75642234  1416.88045961  3186.47487698  1380.9005566\n",
            "  2048.98028877  3115.36727803  3192.74829239  2957.81471134\n",
            "  -309.39482285  3792.4834738   3808.61032694  3669.63236467\n",
            "  3736.43245566  2277.01639962   857.76812536  2528.67482118\n",
            "  4700.44879575  2872.01837914  2804.08508738 -1045.53520215\n",
            "  -183.90085944  2556.47193302  3194.77054019  3108.48089695\n",
            "  4718.52624333  3623.54852334  3038.4043458   2900.27886742\n",
            "  1042.6899685   3242.69016168  1632.6328344   3395.96081244\n",
            "  2213.18339089  2707.37203753  4165.66077486  1492.34822792\n",
            "  -132.72238794  1102.63092166  1438.80008104  1443.75837334\n",
            "  1829.01554695   973.12771481  3271.39421376  3254.27432253\n",
            "  -161.46169522    72.58218786  1774.24125644  -632.66831423\n",
            "  2531.55226268  4485.65882169  1796.44459658  2519.74607773\n",
            "  2371.38081459  4194.8355524   -771.30234698  1344.46736265\n",
            "  -967.33576066  1353.05300573  3265.73163044  2670.2925567\n",
            "  1613.75708737  3189.58746374  -810.85964358  2753.09992531\n",
            "  2178.28032441  2732.98784197  2110.04822199  2327.68963809\n",
            "  3870.64913841  2926.04570599  2779.15291241   636.25728977\n",
            "  1194.1928894   4778.71033823  3066.39089093  3328.54835279\n",
            "  4400.46098188  1894.895569    4290.01251609   572.99300136\n",
            "  2579.24830491  3349.60698124  2982.54911796  2674.56165895\n",
            "  3763.95229207  3884.58791149  3782.90713719  3939.12885079\n",
            "  3850.1735489   3870.01081561  3964.5331962   2908.96433528\n",
            "  1001.51593302   509.85548611  2026.75019074  5691.58192484\n",
            "  2105.74552915  1747.54922009  3110.61258139   115.7401617\n",
            "  5172.75086929  3338.73543581  4144.05762646   805.53285192\n",
            "  2331.40657555  3206.99378836   386.55122767  2938.94701141\n",
            "  1873.28577011  2144.49147042  3082.87955228  3870.29871722\n",
            "  1791.43594337  1069.11477182  3294.84134826  5603.61296774\n",
            "  1645.44477396   232.82442927  1181.13519601  3701.34493377\n",
            "  4099.97384712  2877.21991084  3519.04358701  1707.98351381\n",
            "   170.07605396]\n"
          ]
        }
      ]
    },
    {
      "cell_type": "code",
      "source": [
        "# Calculando o RMSE Root Mean Squared Error - nos dados de teste\n",
        "rmse_test = mean_squared_error(test_y,predict_test)**(0.5)\n",
        "print('\\nRMSE on test dataset : ', rmse_test)"
      ],
      "metadata": {
        "colab": {
          "base_uri": "https://localhost:8080/"
        },
        "id": "EEkH-kkntoza",
        "outputId": "65bf24bb-8738-4c7e-d42d-6d470ad9aa4c"
      },
      "execution_count": 37,
      "outputs": [
        {
          "output_type": "stream",
          "name": "stdout",
          "text": [
            "\n",
            "RMSE on test dataset :  1009.251723220972\n"
          ]
        }
      ]
    },
    {
      "cell_type": "code",
      "source": [
        "# Criando o Modelo Mais Top Top - RandomForestRegressor\n",
        "model_RFR = RandomForestRegressor(max_depth=5)\n",
        "\n",
        "# Treinando o modelo - Dados de Treino\n",
        "model_RFR.fit(train_x, train_y)\n",
        "\n",
        "# Fazendo previsões com os dados de treino e teste\n",
        "predict_train = model_RFR.predict(train_x)\n",
        "predict_test = model_RFR.predict(test_x)\n",
        "\n",
        "# Calculando o RMSE Root Mean Squared Error\n",
        "print('RMSE on train data: ', mean_squared_error(train_y, predict_train)**(0.5))\n",
        "print('RMSE on test data: ',  mean_squared_error(test_y, predict_test)**(0.5))"
      ],
      "metadata": {
        "colab": {
          "base_uri": "https://localhost:8080/"
        },
        "id": "STwRjqATtshT",
        "outputId": "a14c665c-ffdf-4308-aebe-a2122e746d61"
      },
      "execution_count": 38,
      "outputs": [
        {
          "output_type": "stream",
          "name": "stdout",
          "text": [
            "RMSE on train data:  1024.9311072020496\n",
            "RMSE on test data:  957.0967314773736\n"
          ]
        }
      ]
    },
    {
      "cell_type": "markdown",
      "source": [
        "<strong> 5° Fazendo as Previsões </strong>"
      ],
      "metadata": {
        "id": "fQ6U3TnAtw69"
      }
    },
    {
      "cell_type": "code",
      "source": [
        "# Fazendo novas previsões predict the target on the testing dataset\n",
        "predict_test = model_RFR.predict(test_x)\n",
        "print('\\nItem_Outlet_Sales on test data',predict_test)"
      ],
      "metadata": {
        "colab": {
          "base_uri": "https://localhost:8080/"
        },
        "id": "2DUivCfntx-i",
        "outputId": "0b61fa5a-f28a-48f0-b772-caa5a41aa41d"
      },
      "execution_count": 39,
      "outputs": [
        {
          "output_type": "stream",
          "name": "stdout",
          "text": [
            "\n",
            "Item_Outlet_Sales on test data [1429.14797114 2961.81680226 2700.54902911 2641.13689623 2618.62415346\n",
            " 4009.83216388 2700.33732592 1423.88627599 4345.22079332  350.20123156\n",
            " 1724.5593356   446.34849198  329.30029356 1555.86330938 2671.18227852\n",
            " 1137.35297731 2597.96158754 1771.68828585 2240.82763601 4129.22394457\n",
            "  735.12854556 1421.30523794 2626.7532372  2907.00583702 1699.24895513\n",
            " 1419.00163988  758.38602381 2158.55021973 2838.94733324 1803.31485306\n",
            " 1804.23390955 2874.39844571 2602.02972519  381.89880232 4066.69563468\n",
            " 2255.84546336 1688.60457607 2915.75949243 2533.47451547 3643.84484088\n",
            " 1139.01186078  755.45525277  144.97661789 1421.30523794  736.11075997\n",
            " 2691.27127502 3567.28202967 2583.18157182 1300.33571546  221.59458999\n",
            " 2382.70760176 3920.83308619 1615.30799584 2692.23578374 1569.20042173\n",
            "  790.96011613 3070.73159299 1686.46824021 2198.33454326 2925.88742786\n",
            "  305.5754398   255.34210262 4001.89581422 3896.0074654  4277.88360211\n",
            "  780.06020732 1769.58380839  720.60750632  821.90239904 2649.55970947\n",
            " 1051.02878785 3606.41710528 1829.37838244  802.6592589  1405.9315219\n",
            "  755.45525277 1135.88840884  738.42861316  823.56775022  286.14676143\n",
            " 1599.55690048  959.64453309 2621.34781689  653.60992361 2704.87853663\n",
            " 2938.61516118  376.87358511 4674.61956687  792.49057139  820.58076406\n",
            " 1490.65122287 2111.21068736 1379.66391074 4387.15631915  734.35159459\n",
            " 6965.91543202 4105.92512209 2031.46025374 3662.49368004 1566.97156464\n",
            " 4189.05950238 2935.25030381 2920.79259347  730.3083406  2662.64768201\n",
            " 1532.68068974 2980.63248532 4261.23957591  263.6104842  1816.6295675\n",
            " 1259.5990861  2683.70126605 1947.80837945 3631.77355733 2925.88742786\n",
            "  973.96536603 1134.81627931 1421.30523794 3051.84987549 1410.816158\n",
            " 1658.42812802 2080.84483613 1339.24044615 2213.91548588 1377.49021287\n",
            "  259.11449068  502.04727794 4045.79386552 4729.26015565 2500.88594615\n",
            " 1811.7449314   823.56775022  222.4044268   735.44149642 6160.45562894\n",
            "  138.96312801 1774.01067165 2676.17428607 1334.40850733 1683.52597789\n",
            " 1559.44674969 4092.30026471 1710.42487044 1410.816158   1164.87626217\n",
            " 3611.22811012 2885.69634861 1410.816158   2331.13534058 8394.70429331\n",
            "  110.16781861 2902.55519283 2189.84064688 1583.68764542 4649.12075417\n",
            "  780.44484327 1822.96130533 2324.00476357 2562.27589897 1566.97156464\n",
            " 1725.9017017   784.43812813 3931.90587311  581.50070229 2680.95860064\n",
            " 3964.68833137  727.68825233 2325.20660992 1445.43791899 1421.30523794\n",
            "  153.36710436  287.54355467 1899.40056507  774.38060843 1566.97156464\n",
            " 2811.86413689 1445.43791899 2699.14518039  739.3967673   759.72347451\n",
            "  737.1068476  2660.2126343  1410.816158   2138.45664439 1445.43791899\n",
            " 2840.87875534 2812.96727869 1928.54374242 4303.0354924  1345.86171377\n",
            " 4020.49091872 1389.25130547 2750.37752829  498.77283485  344.50624841\n",
            " 2804.23353453 4159.50266861 2849.07870095 1710.34504928 1717.53836364\n",
            "  257.11609861 1583.68764542 2650.22004244 2936.57199662 4123.58467587\n",
            " 2565.34702542 3537.49726595 4805.38680792 2704.87853663 1540.20550468\n",
            " 2623.05491306 2309.13221141 2182.18471815  727.99990608 1439.79664513\n",
            " 2584.59323989 1480.65327991 1673.27715171 2915.75949243 1231.9584622\n",
            " 2452.57588563 2940.28340484 2887.17524091 2680.62768588  386.82015881\n",
            " 4020.20786821 4032.3519694  3021.21842868 3104.29631066 2329.56477329\n",
            " 1410.816158   2642.82028444 4925.39136612 2837.30414443 2805.94881346\n",
            "  108.39031148  719.70021892 2847.40676509 2945.37823924 2768.8189596\n",
            " 4996.93001643 2748.92588373 2815.24883319 2927.32060322  785.99768304\n",
            " 2953.31314158 1652.62854361 3761.4234857  2441.34413466 2872.7861308\n",
            " 3971.53149455 1440.55328289  276.24668135 1536.79921696 1410.816158\n",
            " 1434.10513014 1701.59898309  969.76656355 2959.30037139 2904.55225641\n",
            "  284.94483058  249.95549308  642.26518454  220.6304107  1498.77789445\n",
            " 4319.4020192   650.17045142 2700.54902911 2601.07684675 4413.48327136\n",
            "  151.26407936 1334.40850733  172.90991065 1553.63445229 2891.91477602\n",
            " 2622.33736495 1562.09031158 3591.3486118   209.26490644 2662.81656076\n",
            " 2284.54402528 2674.63025441 1592.14350472 2640.65892622 3976.31273288\n",
            " 2682.92885726 2644.18733521  789.63848115 1386.07623292 4443.63642349\n",
            " 2925.88742786 2949.17243596 3988.14650994 1594.09594573 3642.06631232\n",
            "  741.92705256 2792.58521933 2903.11908106 2867.1516646  2798.23668705\n",
            " 3988.85794727 3957.28657728 4266.01933491 4034.62396802 4249.15860686\n",
            " 4118.00104107 3963.43037234 2849.07870095  392.99171922  827.08646435\n",
            " 1882.987892   7613.43173769 1829.37838244 1694.49949228 2915.75949243\n",
            "  281.39495713 6129.15297901 2854.64100254 4056.89524711  787.51192208\n",
            " 2610.02246503 2885.69634861  773.65447307 2860.63981174 2218.64719571\n",
            " 2206.00587136 2931.88528055 3933.16125992 1404.44651568 2020.64819984\n",
            " 3072.19293013 6246.76665568 1837.57181798  270.59071436  918.26925677\n",
            " 3955.29164551 3137.23419112 2696.76698055 2723.6266437  1710.42487044\n",
            "  777.46599391]\n"
          ]
        }
      ]
    },
    {
      "cell_type": "markdown",
      "source": [
        "# Conclusão\n",
        "\n",
        "O modelo de previsão de vendas criado para o Atacado Comercial Esperança usou Machine Learning para entender o comportamento das vendas nos últimos três anos. Foram testados diferentes algoritmos, e o Random Forest Regressor se destacou por entregar previsões mais precisas.\n",
        "\n",
        "Os resultados mostram que o modelo conseguiu identificar padrões importantes, ajudando na gestão de estoque, planejamento de demanda e estratégias de vendas. A avaliação foi feita com a métrica RMSE, que mede o quão próximo o modelo chega dos valores reais. Como o RMSE ficou baixo nos testes, podemos dizer que o modelo tem uma boa capacidade de prever vendas futuras.\n",
        "\n",
        "Com isso, a empresa pode tomar decisões mais inteligentes, como ajustar estoques para evitar desperdícios ou falta de produtos, identificar os itens com maior potencial de venda e melhorar a logística de distribuição. Para deixar o modelo ainda mais preciso, dá para testar ajustes mais avançados, como otimizar os parâmetros, testar modelos mais sofisticados e incluir fatores externos que influenciam as vendas.\n"
      ],
      "metadata": {
        "id": "BcA2GZwWuUI3"
      }
    }
  ]
}